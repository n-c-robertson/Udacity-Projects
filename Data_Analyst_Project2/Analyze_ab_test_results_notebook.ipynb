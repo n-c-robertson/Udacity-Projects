{
 "cells": [
  {
   "cell_type": "markdown",
   "metadata": {},
   "source": [
    "# Analyze A/B Test Results\n",
    "\n",
    "\n",
    "This projects demonstrates competency in the fundamental statistics and modeling techniques needed to explore Hypothesis Testing and A/B Tests using bootstrapping and regression covered in the \"Practical Statistics\" course in Udacity's Data Analyst Nanodegree.\n",
    "\n",
    "## Table of Contents\n",
    "- [Introduction](#intro)\n",
    "- [Part I - Probability](#probability)\n",
    "- [Part II - A/B Test](#ab_test)\n",
    "- [Part III - Regression](#regression)\n",
    "\n",
    "<a id='intro'></a>\n",
    "## Introduction\n",
    "\n",
    "A/B tests are very commonly performed by data analysts and data scientists. For this project, I will be working to understand the results of an A/B test run by an e-commerce website.  \n",
    "\n",
    "My goal is to work through this notebook to help the fictional company understand if they should, based on the conversion results of the two different pages, implement the new page or keep the old page.\n",
    "\n",
    "\n",
    "\n",
    "<a id='probability'></a>\n",
    "## Part I - Probability\n",
    "\n",
    "To get started, let's import our libraries."
   ]
  },
  {
   "cell_type": "code",
   "execution_count": 39,
   "metadata": {},
   "outputs": [],
   "source": [
    "## Import basic packages.\n",
    "import pandas as pd\n",
    "import numpy as np\n",
    "import random\n",
    "import tabletext\n",
    "\n",
    "## Import visualization packages.\n",
    "import seaborn as sns\n",
    "import matplotlib.pyplot as plt\n",
    "\n",
    "## Set styling for visualizations.\n",
    "%matplotlib inline\n",
    "sns.set_style(\"white\")\n",
    "sns.set_style(\"ticks\")\n",
    "sns.set(rc={'figure.figsize':(16,10)})\n",
    "\n",
    "## Set random seed.\n",
    "random.seed(42)"
   ]
  },
  {
   "cell_type": "markdown",
   "metadata": {},
   "source": [
    "### `1.` Now, read in the `ab_data.csv` data. Store it in `df`.  **Use your dataframe to answer the questions in Quiz 1 of the classroom.**\n",
    "\n",
    "#### A. Read in the dataset and take a look at the top few rows here:"
   ]
  },
  {
   "cell_type": "code",
   "execution_count": 2,
   "metadata": {},
   "outputs": [
    {
     "data": {
      "text/html": [
       "<div>\n",
       "<style scoped>\n",
       "    .dataframe tbody tr th:only-of-type {\n",
       "        vertical-align: middle;\n",
       "    }\n",
       "\n",
       "    .dataframe tbody tr th {\n",
       "        vertical-align: top;\n",
       "    }\n",
       "\n",
       "    .dataframe thead th {\n",
       "        text-align: right;\n",
       "    }\n",
       "</style>\n",
       "<table border=\"1\" class=\"dataframe\">\n",
       "  <thead>\n",
       "    <tr style=\"text-align: right;\">\n",
       "      <th></th>\n",
       "      <th>user_id</th>\n",
       "      <th>timestamp</th>\n",
       "      <th>group</th>\n",
       "      <th>landing_page</th>\n",
       "      <th>converted</th>\n",
       "    </tr>\n",
       "  </thead>\n",
       "  <tbody>\n",
       "    <tr>\n",
       "      <th>0</th>\n",
       "      <td>851104</td>\n",
       "      <td>2017-01-21 22:11:48.556739</td>\n",
       "      <td>control</td>\n",
       "      <td>old_page</td>\n",
       "      <td>0</td>\n",
       "    </tr>\n",
       "    <tr>\n",
       "      <th>1</th>\n",
       "      <td>804228</td>\n",
       "      <td>2017-01-12 08:01:45.159739</td>\n",
       "      <td>control</td>\n",
       "      <td>old_page</td>\n",
       "      <td>0</td>\n",
       "    </tr>\n",
       "    <tr>\n",
       "      <th>2</th>\n",
       "      <td>661590</td>\n",
       "      <td>2017-01-11 16:55:06.154213</td>\n",
       "      <td>treatment</td>\n",
       "      <td>new_page</td>\n",
       "      <td>0</td>\n",
       "    </tr>\n",
       "    <tr>\n",
       "      <th>3</th>\n",
       "      <td>853541</td>\n",
       "      <td>2017-01-08 18:28:03.143765</td>\n",
       "      <td>treatment</td>\n",
       "      <td>new_page</td>\n",
       "      <td>0</td>\n",
       "    </tr>\n",
       "    <tr>\n",
       "      <th>4</th>\n",
       "      <td>864975</td>\n",
       "      <td>2017-01-21 01:52:26.210827</td>\n",
       "      <td>control</td>\n",
       "      <td>old_page</td>\n",
       "      <td>1</td>\n",
       "    </tr>\n",
       "  </tbody>\n",
       "</table>\n",
       "</div>"
      ],
      "text/plain": [
       "   user_id                   timestamp      group landing_page  converted\n",
       "0   851104  2017-01-21 22:11:48.556739    control     old_page          0\n",
       "1   804228  2017-01-12 08:01:45.159739    control     old_page          0\n",
       "2   661590  2017-01-11 16:55:06.154213  treatment     new_page          0\n",
       "3   853541  2017-01-08 18:28:03.143765  treatment     new_page          0\n",
       "4   864975  2017-01-21 01:52:26.210827    control     old_page          1"
      ]
     },
     "execution_count": 2,
     "metadata": {},
     "output_type": "execute_result"
    }
   ],
   "source": [
    "## Read in ab_data.csv, check head of data.\n",
    "df = pd.read_csv('ab_data.csv')\n",
    "df.head()"
   ]
  },
  {
   "cell_type": "markdown",
   "metadata": {},
   "source": [
    "#### B. Use the below cell to find the number of rows in the dataset."
   ]
  },
  {
   "cell_type": "code",
   "execution_count": 3,
   "metadata": {},
   "outputs": [
    {
     "name": "stdout",
     "output_type": "stream",
     "text": [
      "┌────────────────┬────────┐\n",
      "│ Number of Rows │ 294478 │\n",
      "└────────────────┴────────┘\n"
     ]
    }
   ],
   "source": [
    "## Number of rows in df.\n",
    "numRows = df.shape[0]\n",
    "\n",
    "## Build table.\n",
    "list_ = [['Number of Rows', numRows]]\n",
    "\n",
    "## Print table.\n",
    "print(tabletext.to_text(list_))"
   ]
  },
  {
   "cell_type": "markdown",
   "metadata": {},
   "source": [
    "#### C. The number of unique users in the dataset."
   ]
  },
  {
   "cell_type": "code",
   "execution_count": 4,
   "metadata": {},
   "outputs": [
    {
     "name": "stdout",
     "output_type": "stream",
     "text": [
      "┌────────────────────────┬────────┐\n",
      "│ Number of Unique Users │ 290584 │\n",
      "└────────────────────────┴────────┘\n"
     ]
    }
   ],
   "source": [
    "## Unique values in column user_id.\n",
    "users = df.user_id.nunique()\n",
    "\n",
    "## Build table.\n",
    "list_ = [['Number of Unique Users', users]]\n",
    "\n",
    "## Print table.\n",
    "print(tabletext.to_text(list_))"
   ]
  },
  {
   "cell_type": "markdown",
   "metadata": {
    "collapsed": true
   },
   "source": [
    "#### D. The proportion of users converted."
   ]
  },
  {
   "cell_type": "code",
   "execution_count": 5,
   "metadata": {},
   "outputs": [
    {
     "name": "stdout",
     "output_type": "stream",
     "text": [
      "┌─────────────────────────────────┬─────────────────────┐\n",
      "│ Percent of Users that Converted │ 0.11965919355605512 │\n",
      "└─────────────────────────────────┴─────────────────────┘\n"
     ]
    }
   ],
   "source": [
    "## Number of users that converted.\n",
    "conversion = df.converted.mean()\n",
    "\n",
    "## Build table.\n",
    "list_ = [['Percent of Users that Converted', conversion]]\n",
    "\n",
    "## Print table.\n",
    "print(tabletext.to_text(list_))"
   ]
  },
  {
   "cell_type": "markdown",
   "metadata": {
    "collapsed": true
   },
   "source": [
    "#### E. The number of times the `new_page` and `treatment` don't line up."
   ]
  },
  {
   "cell_type": "code",
   "execution_count": 6,
   "metadata": {},
   "outputs": [
    {
     "name": "stdout",
     "output_type": "stream",
     "text": [
      "┌────────────────────────────┬──────────────────────┐\n",
      "│ Number of Rows with Errors │                 3893 │\n",
      "├────────────────────────────┼──────────────────────┤\n",
      "│ % of Records with Errors   │ 0.013220002852505111 │\n",
      "└────────────────────────────┴──────────────────────┘\n"
     ]
    }
   ],
   "source": [
    "## Query records where group and landing page do not match.\n",
    "errorRows = df.query(\"(group == 'control' and landing_page == 'new_page') or (group == 'treatment' and landing_page == 'old_page')\").shape[0] \n",
    "\n",
    "## Build table.\n",
    "list_ = [['Number of Rows with Errors', errorRows],\n",
    "         ['% of Records with Errors', errorRows / numRows]]\n",
    "\n",
    "## Print table.\n",
    "print(tabletext.to_text(list_))"
   ]
  },
  {
   "cell_type": "markdown",
   "metadata": {},
   "source": [
    "#### F. Do any of the rows have missing values?"
   ]
  },
  {
   "cell_type": "code",
   "execution_count": 7,
   "metadata": {},
   "outputs": [
    {
     "name": "stdout",
     "output_type": "stream",
     "text": [
      "<class 'pandas.core.frame.DataFrame'>\n",
      "RangeIndex: 294478 entries, 0 to 294477\n",
      "Data columns (total 5 columns):\n",
      "user_id         294478 non-null int64\n",
      "timestamp       294478 non-null object\n",
      "group           294478 non-null object\n",
      "landing_page    294478 non-null object\n",
      "converted       294478 non-null int64\n",
      "dtypes: int64(2), object(3)\n",
      "memory usage: 11.2+ MB\n"
     ]
    },
    {
     "data": {
      "text/plain": [
       "user_id         0\n",
       "timestamp       0\n",
       "group           0\n",
       "landing_page    0\n",
       "converted       0\n",
       "dtype: int64"
      ]
     },
     "execution_count": 7,
     "metadata": {},
     "output_type": "execute_result"
    }
   ],
   "source": [
    "## Method one of checking missing values.\n",
    "df.info()\n",
    "\n",
    "## Method two of checking missing values.\n",
    "df.isnull().sum()"
   ]
  },
  {
   "cell_type": "markdown",
   "metadata": {},
   "source": [
    "### `2.` For the rows where **treatment** is not aligned with **new_page** or **control** is not aligned with **old_page**, we cannot be sure if this row truly received the new or old page.  Handle these rows.\n",
    "\n",
    "#### A. Now use the answer to the quiz to create a new dataset that meets the specifications from the quiz.  Store your new dataframe in **df2**."
   ]
  },
  {
   "cell_type": "code",
   "execution_count": 8,
   "metadata": {},
   "outputs": [],
   "source": [
    "## Drop mismatching rows.\n",
    "df2 = df.query(\"(group == 'control' and landing_page == 'old_page') or (group == 'treatment' and landing_page == 'new_page')\")\n"
   ]
  },
  {
   "cell_type": "code",
   "execution_count": 9,
   "metadata": {},
   "outputs": [
    {
     "name": "stdout",
     "output_type": "stream",
     "text": [
      "┌────────────────────────────────┬────────┐\n",
      "│ Quality Check                  │        │\n",
      "├────────────────────────────────┼────────┤\n",
      "│ df rows                        │ 294478 │\n",
      "├────────────────────────────────┼────────┤\n",
      "│ df2 rows                       │ 290585 │\n",
      "├────────────────────────────────┼────────┤\n",
      "│ df2 Treatment Rows with Errors │      0 │\n",
      "├────────────────────────────────┼────────┤\n",
      "│ df2 Control Rows with Errors   │      0 │\n",
      "└────────────────────────────────┴────────┘\n"
     ]
    }
   ],
   "source": [
    "## Double Check all error rows were removed.\n",
    "treatmentErrorsCheck = df2[((df2.group == 'treatment') == (df2.landing_page == 'new_page')) == False].shape[0]\n",
    "controlErrorsCheck = df2[((df2.group == 'control') == (df2.landing_page == 'old_page')) == False].shape[0]\n",
    "\n",
    "## Build table.\n",
    "list_ = [['Quality Check'],\n",
    "         ['df rows',len(df)],\n",
    "         ['df2 rows',len(df2)],\n",
    "         ['df2 Treatment Rows with Errors', treatmentErrorsCheck],\n",
    "         ['df2 Control Rows with Errors', controlErrorsCheck]]\n",
    "\n",
    "## Print table.\n",
    "print(tabletext.to_text(list_))"
   ]
  },
  {
   "cell_type": "markdown",
   "metadata": {},
   "source": [
    "### `3.` Use **df2** and the cells below to answer the questions below."
   ]
  },
  {
   "cell_type": "markdown",
   "metadata": {},
   "source": [
    "#### A. How many unique **user_id**s are in **df2**?"
   ]
  },
  {
   "cell_type": "code",
   "execution_count": 10,
   "metadata": {},
   "outputs": [
    {
     "name": "stdout",
     "output_type": "stream",
     "text": [
      "┌────────────────────────┬────────┐\n",
      "│ Number of Unique Users │ 290584 │\n",
      "└────────────────────────┴────────┘\n"
     ]
    }
   ],
   "source": [
    "## Print number of unique user ids.\n",
    "users = df2.user_id.nunique()\n",
    "\n",
    "## Build table.\n",
    "list_ = [['Number of Unique Users', users]]\n",
    "\n",
    "## Print table.\n",
    "print(tabletext.to_text(list_))"
   ]
  },
  {
   "cell_type": "markdown",
   "metadata": {
    "collapsed": true
   },
   "source": [
    "#### B. There is one **user_id** repeated in **df2**.  What is it?"
   ]
  },
  {
   "cell_type": "code",
   "execution_count": 11,
   "metadata": {},
   "outputs": [
    {
     "name": "stdout",
     "output_type": "stream",
     "text": [
      "┌────────────────────┬────────┐\n",
      "│ Duplicated User ID │ 773192 │\n",
      "└────────────────────┴────────┘\n"
     ]
    }
   ],
   "source": [
    "## Find duplicated user_id.\n",
    "dupe = df2[df2.duplicated(['user_id'])].user_id.unique()[0]\n",
    "\n",
    "## Build table.\n",
    "list_ = [['Duplicated User ID', dupe]]\n",
    "\n",
    "## Print table.\n",
    "print(tabletext.to_text(list_))"
   ]
  },
  {
   "cell_type": "markdown",
   "metadata": {},
   "source": [
    "#### C. What is the row information for the repeat **user_id**? "
   ]
  },
  {
   "cell_type": "code",
   "execution_count": 12,
   "metadata": {},
   "outputs": [
    {
     "data": {
      "text/html": [
       "<div>\n",
       "<style scoped>\n",
       "    .dataframe tbody tr th:only-of-type {\n",
       "        vertical-align: middle;\n",
       "    }\n",
       "\n",
       "    .dataframe tbody tr th {\n",
       "        vertical-align: top;\n",
       "    }\n",
       "\n",
       "    .dataframe thead th {\n",
       "        text-align: right;\n",
       "    }\n",
       "</style>\n",
       "<table border=\"1\" class=\"dataframe\">\n",
       "  <thead>\n",
       "    <tr style=\"text-align: right;\">\n",
       "      <th></th>\n",
       "      <th>user_id</th>\n",
       "      <th>timestamp</th>\n",
       "      <th>group</th>\n",
       "      <th>landing_page</th>\n",
       "      <th>converted</th>\n",
       "    </tr>\n",
       "  </thead>\n",
       "  <tbody>\n",
       "    <tr>\n",
       "      <th>1899</th>\n",
       "      <td>773192</td>\n",
       "      <td>2017-01-09 05:37:58.781806</td>\n",
       "      <td>treatment</td>\n",
       "      <td>new_page</td>\n",
       "      <td>0</td>\n",
       "    </tr>\n",
       "    <tr>\n",
       "      <th>2893</th>\n",
       "      <td>773192</td>\n",
       "      <td>2017-01-14 02:55:59.590927</td>\n",
       "      <td>treatment</td>\n",
       "      <td>new_page</td>\n",
       "      <td>0</td>\n",
       "    </tr>\n",
       "  </tbody>\n",
       "</table>\n",
       "</div>"
      ],
      "text/plain": [
       "      user_id                   timestamp      group landing_page  converted\n",
       "1899   773192  2017-01-09 05:37:58.781806  treatment     new_page          0\n",
       "2893   773192  2017-01-14 02:55:59.590927  treatment     new_page          0"
      ]
     },
     "execution_count": 12,
     "metadata": {},
     "output_type": "execute_result"
    }
   ],
   "source": [
    "## Find row values for duplicated user_id.\n",
    "df2[df2.duplicated(['user_id'],keep=False)]"
   ]
  },
  {
   "cell_type": "markdown",
   "metadata": {},
   "source": [
    "#### D. Remove **one** of the rows with a duplicate **user_id**, but keep your dataframe as **df2**."
   ]
  },
  {
   "cell_type": "code",
   "execution_count": 13,
   "metadata": {},
   "outputs": [
    {
     "name": "stdout",
     "output_type": "stream",
     "text": [
      "┌────────────────────────────┬───┐\n",
      "│ Number of Duplicated Users │ 0 │\n",
      "└────────────────────────────┴───┘\n"
     ]
    }
   ],
   "source": [
    "## Since the user has not yet converted, I am keeping the last record, and dropping the first.\n",
    "df2 = df2.drop_duplicates(['user_id'], keep='last')\n",
    "\n",
    "## Check to verify duplicate removed.\n",
    "dupe = df2[df2.duplicated(['user_id'])].user_id.nunique()\n",
    "\n",
    "## Buid table.\n",
    "list_ = [['Number of Duplicated Users', dupe]]\n",
    "\n",
    "## Print table.\n",
    "print(tabletext.to_text(list_))"
   ]
  },
  {
   "cell_type": "markdown",
   "metadata": {},
   "source": [
    "### `4.` Use **df2** in the below cells to answer the below questions.\n",
    "\n",
    "#### A. What is the probability of an individual converting regardless of the page they receive?"
   ]
  },
  {
   "cell_type": "code",
   "execution_count": 14,
   "metadata": {},
   "outputs": [
    {
     "name": "stdout",
     "output_type": "stream",
     "text": [
      "┌───────────────────┬─────────────────────┐\n",
      "│ Conversion (Both) │ 0.11959708724499628 │\n",
      "└───────────────────┴─────────────────────┘\n"
     ]
    }
   ],
   "source": [
    "## Conversion mean, control and treatment.\n",
    "convertMean = df2.converted.mean()\n",
    "\n",
    "## Build table.\n",
    "list_ = [['Conversion (Both)', convertMean]]\n",
    "\n",
    "## Print table.\n",
    "print(tabletext.to_text(list_))"
   ]
  },
  {
   "cell_type": "markdown",
   "metadata": {},
   "source": [
    "#### B. Given that an individual was in the `control` group, what is the probability they converted?*"
   ]
  },
  {
   "cell_type": "code",
   "execution_count": 15,
   "metadata": {},
   "outputs": [
    {
     "name": "stdout",
     "output_type": "stream",
     "text": [
      "┌──────────────────────┬────────────────────┐\n",
      "│ Conversion (Control) │ 0.1203863045004612 │\n",
      "└──────────────────────┴────────────────────┘\n"
     ]
    }
   ],
   "source": [
    "## Conversion mean, control.\n",
    "controlConvert = df2[df2.group == 'control'].converted.mean()\n",
    "\n",
    "## Build table.\n",
    "list_ = [['Conversion (Control)', controlConvert]]\n",
    "\n",
    "## Print table.\n",
    "print(tabletext.to_text(list_))"
   ]
  },
  {
   "cell_type": "markdown",
   "metadata": {},
   "source": [
    "#### C. Given that an individual was in the `treatment` group, what is the probability they converted?"
   ]
  },
  {
   "cell_type": "code",
   "execution_count": 16,
   "metadata": {},
   "outputs": [
    {
     "name": "stdout",
     "output_type": "stream",
     "text": [
      "┌────────────────────────┬─────────────────────┐\n",
      "│ Conversion (Treatment) │ 0.11880806551510564 │\n",
      "└────────────────────────┴─────────────────────┘\n"
     ]
    }
   ],
   "source": [
    "## Conversion mean, treatment\n",
    "treatmentConvert = df2[df2.group == 'treatment'].converted.mean()\n",
    "\n",
    "## Build table.\n",
    "list_ = [['Conversion (Treatment)', treatmentConvert]]\n",
    "\n",
    "## Print table.\n",
    "print(tabletext.to_text(list_))"
   ]
  },
  {
   "cell_type": "markdown",
   "metadata": {},
   "source": [
    "#### D. What is the probability that an individual received the new page?"
   ]
  },
  {
   "cell_type": "code",
   "execution_count": 17,
   "metadata": {},
   "outputs": [
    {
     "name": "stdout",
     "output_type": "stream",
     "text": [
      "┌───────────────┬────────────────────┐\n",
      "│ Pr(Treatment) │ 0.5000619442226688 │\n",
      "└───────────────┴────────────────────┘\n"
     ]
    }
   ],
   "source": [
    "## Percentage of learners who landed on the Treatment page.\n",
    "newPageProb = len(df2.query(\"landing_page == 'new_page'\")) / df2.shape[0]\n",
    "\n",
    "## Build table.\n",
    "list_ = [['Pr(Treatment)', newPageProb]]\n",
    "\n",
    "## Print table.\n",
    "print(tabletext.to_text(list_))"
   ]
  },
  {
   "cell_type": "markdown",
   "metadata": {},
   "source": [
    "#### E. Consider your results from A - D above, and explain below whether you think there is sufficient evidence to say that the new treatment page leads to more conversions."
   ]
  },
  {
   "cell_type": "markdown",
   "metadata": {},
   "source": [
    "While the Control experience seems to have fared slightly better, <font color='red'>**there is not yet enough evidence to say this is statistically significant**</font>. More sampling is needed to understand if the difference in means here is indicative of the performance of the pages. Using bootstrapping, we can simulated *n* number of tests using this data and create a sample of difference of means by which we can compare this result.\n",
    "\n",
    "**Note:** While there is a chance the results may still be statistically significant, my first reaction is that I am skeptical the results will be *practically* significant. In other words, the results may be so close, that there will be no perceivable gain (or loss) to the conversion rate on the page in either version A or version B.\n",
    "\n",
    "Below is a table of some of the key metrics discovered in Part I.\n",
    "\n",
    "| Measure | Value   |\n",
    "|------|------|\n",
    "|   Conversion (Both)  | 11.959%|\n",
    "|   Conversion (Control)  | 12.039%|\n",
    "|   Conversion (Treatment)  | 11.881%|\n",
    "|   Difference in Means  | -0.158%|"
   ]
  },
  {
   "cell_type": "markdown",
   "metadata": {},
   "source": [
    "<a id='ab_test'></a>\n",
    "## Part II - A/B Test\n",
    "\n",
    "### `1.` Using the data provided,  what should your null and alternative hypotheses be? "
   ]
  },
  {
   "cell_type": "markdown",
   "metadata": {},
   "source": [
    "\n",
    "\\begin{equation*}H_0: p_{new} - p_{old} <= 0\\end{equation*}\n",
    "\\begin{equation*}H_1: p_{new} - p_{old} > 0\\end{equation*}"
   ]
  },
  {
   "cell_type": "markdown",
   "metadata": {},
   "source": [
    "### `2.` Assume that $p_{new}$ and $p_{old}$ are equal under the null. Furthermore, assume they are equal to the **converted** rate for all data in **ab_data.csv**. Using **ab_data.csv**, Perform the sampling distribution for the difference in **converted** between the two pages over 10,000 iterations of the null hypothesis."
   ]
  },
  {
   "cell_type": "markdown",
   "metadata": {},
   "source": [
    "#### A. What is the **convert rate** for $p_{new}$ under the null? "
   ]
  },
  {
   "cell_type": "code",
   "execution_count": 18,
   "metadata": {},
   "outputs": [
    {
     "name": "stdout",
     "output_type": "stream",
     "text": [
      "┌──────────────┬─────────────────────┐\n",
      "│ P_new (Null) │ 0.11959708724499628 │\n",
      "└──────────────┴─────────────────────┘\n"
     ]
    }
   ],
   "source": [
    "p_new = df2.converted.mean()\n",
    "\n",
    "## Build table.\n",
    "list_ = [['P_new (Null)', p_new]]\n",
    "\n",
    "## Print table.\n",
    "print(tabletext.to_text(list_))"
   ]
  },
  {
   "cell_type": "markdown",
   "metadata": {},
   "source": [
    "#### B. What is the **convert rate** for $p_{old}$ under the null? <br><br>"
   ]
  },
  {
   "cell_type": "code",
   "execution_count": 19,
   "metadata": {},
   "outputs": [
    {
     "name": "stdout",
     "output_type": "stream",
     "text": [
      "┌──────────────┬─────────────────────┐\n",
      "│ P_old (Null) │ 0.11959708724499628 │\n",
      "└──────────────┴─────────────────────┘\n"
     ]
    }
   ],
   "source": [
    "p_old = df2.converted.mean()\n",
    "\n",
    "## Build table.\n",
    "list_ = [['P_old (Null)', p_old]]\n",
    "\n",
    "## Print table.\n",
    "print(tabletext.to_text(list_))"
   ]
  },
  {
   "cell_type": "markdown",
   "metadata": {},
   "source": [
    "#### C. What is $n_{new}$?"
   ]
  },
  {
   "cell_type": "code",
   "execution_count": 20,
   "metadata": {},
   "outputs": [
    {
     "name": "stdout",
     "output_type": "stream",
     "text": [
      "┌───────┬────────┐\n",
      "│ N_new │ 145310 │\n",
      "└───────┴────────┘\n"
     ]
    }
   ],
   "source": [
    "n_new = df2[df2.landing_page == 'new_page'].shape[0]\n",
    "\n",
    "## Build table.\n",
    "list_ = [['N_new', n_new]]\n",
    "\n",
    "## Print table.\n",
    "print(tabletext.to_text(list_))"
   ]
  },
  {
   "cell_type": "markdown",
   "metadata": {},
   "source": [
    "#### D. What is $n_{old}$?"
   ]
  },
  {
   "cell_type": "code",
   "execution_count": 21,
   "metadata": {},
   "outputs": [
    {
     "name": "stdout",
     "output_type": "stream",
     "text": [
      "┌───────┬────────┐\n",
      "│ N_old │ 145274 │\n",
      "└───────┴────────┘\n"
     ]
    }
   ],
   "source": [
    "n_old = df2[df2.landing_page == 'old_page'].shape[0]\n",
    "\n",
    "## Build table.\n",
    "list_ = [['N_old', n_old]]\n",
    "\n",
    "## Print table.\n",
    "print(tabletext.to_text(list_))"
   ]
  },
  {
   "cell_type": "markdown",
   "metadata": {},
   "source": [
    "#### E. Simulate $n_{new}$ transactions with a convert rate of $p_{new}$ under the null.  Store these $n_{new}$ 1's and 0's in **new_page_converted**."
   ]
  },
  {
   "cell_type": "code",
   "execution_count": 22,
   "metadata": {},
   "outputs": [],
   "source": [
    "new_page_converted = np.random.choice([0, 1], size=n_new, p=[(1 - p_new), p_new])"
   ]
  },
  {
   "cell_type": "markdown",
   "metadata": {},
   "source": [
    "#### F. Simulate $n_{old}$ transactions with a convert rate of $p_{old}$ under the null.  Store these $n_{old}$ 1's and 0's in **old_page_converted**."
   ]
  },
  {
   "cell_type": "code",
   "execution_count": 23,
   "metadata": {},
   "outputs": [],
   "source": [
    "old_page_converted = np.random.choice([0, 1], size=n_new, p=[(1 - p_old), p_old])"
   ]
  },
  {
   "cell_type": "markdown",
   "metadata": {},
   "source": [
    "#### G. Find $p_{new}$ - $p_{old}$ for your simulated values from part (e) and (f)."
   ]
  },
  {
   "cell_type": "code",
   "execution_count": 24,
   "metadata": {},
   "outputs": [
    {
     "name": "stdout",
     "output_type": "stream",
     "text": [
      "┌───────────────┬────────────────────────┐\n",
      "│ New_Mean      │    0.11913151193999036 │\n",
      "├───────────────┼────────────────────────┤\n",
      "│ Old_Mean      │    0.11988851421099718 │\n",
      "├───────────────┼────────────────────────┤\n",
      "│ Diff of Means │ -0.0007570022710068208 │\n",
      "└───────────────┴────────────────────────┘\n"
     ]
    }
   ],
   "source": [
    "## Calculate difference of means.\n",
    "new_mean = new_page_converted.mean()\n",
    "old_mean = old_page_converted.mean()\n",
    "diff = new_page_converted.mean() - old_page_converted.mean()\n",
    "\n",
    "## Build table.\n",
    "list_ = [['New_Mean', new_mean],\n",
    "         ['Old_Mean', old_mean],\n",
    "         ['Diff of Means', diff]]\n",
    "\n",
    "## Print table.\n",
    "print(tabletext.to_text(list_))"
   ]
  },
  {
   "cell_type": "markdown",
   "metadata": {},
   "source": [
    "#### H. Simulate 10,000 $p_{new}$ - $p_{old}$ values using this same process similarly to the one you calculated in parts **a. through g.** above.  Store all 10,000 values in a numpy array called **p_diffs**."
   ]
  },
  {
   "cell_type": "code",
   "execution_count": 25,
   "metadata": {},
   "outputs": [],
   "source": [
    "## Save list for capturing bootstrap results.\n",
    "p_diffs = []\n",
    "\n",
    "'''\n",
    "For loop to create bootstrap means under the new experience, the \n",
    "old experience, and create a difference of means. This will allow us\n",
    "to create a set of synthetic experiment results to generate the spread\n",
    "of data that would exist under the null hypothesis.\n",
    "'''\n",
    "\n",
    "for _ in range(10000):\n",
    "    new = np.random.choice([0, 1], size=n_new, p=[(1 - p_new), p_new])\n",
    "    old = np.random.choice([0, 1], size=n_old, p=[(1 - p_old), p_old])\n",
    "    diff = new.mean() - old.mean()\n",
    "    p_diffs.append(diff)\n",
    "\n",
    "    \n",
    "## Convert p_diffs into numpy array for histogram purposes.\n",
    "p_diffs = np.array(p_diffs)"
   ]
  },
  {
   "cell_type": "markdown",
   "metadata": {},
   "source": [
    "#### I. Plot a histogram of the **p_diffs**.  Does this plot look like what you expected?  Use the matching problem in the classroom to assure you fully understand what was computed here."
   ]
  },
  {
   "cell_type": "code",
   "execution_count": 44,
   "metadata": {},
   "outputs": [
    {
     "data": {
      "image/png": "[encoded data removed]",
      "text/plain": [
       "<Figure size 1152x720 with 1 Axes>"
      ]
     },
     "metadata": {},
     "output_type": "display_data"
    }
   ],
   "source": [
    "'''\n",
    "Create variable obs_diff from observed data This will be \n",
    "used for plotting, and will be used to generate the p value.\n",
    "'''\n",
    "\n",
    "obs_diff = treatmentConvert - controlConvert\n",
    "\n",
    "\n",
    "## Plot seaborn histogram.\n",
    "sns.distplot(p_diffs, kde=False, rug=False)\n",
    "\n",
    "## Plot the observed difference in means against the simulated null hypothesis data. Write p value.\n",
    "plt.axvline(obs_diff, lw = 3, ls =':', c= 'r', label='Observed Difference in Mean')\n",
    "plt.text(obs_diff + 0.0001,570,'Observed\\nDifference\\nin Means\\np value: ' + str((p_diffs > obs_diff).mean()),rotation=0)\n",
    "\n",
    "## Plot confidence intervals.\n",
    "low, high = np.percentile(p_diffs, 2.5), np.percentile(p_diffs, 97.5)\n",
    "\n",
    "plt.axvline(low, c='black')\n",
    "plt.text(low - .0007, 570, \"2.5th\\nPercentile\")\n",
    "\n",
    "plt.axvline(high, c='black')\n",
    "plt.text (high + .0001, 570, \"97.5th\\nPercentile\")\n",
    "\n",
    "## Format plot.\n",
    "plt.title(\"Distribution of Simulated Data for\\nNull Hypothesis(Observed value in Red)\\n\", fontsize = 30)\n",
    "plt.xlabel('Difference in Means', fontsize = 20)\n",
    "plt.ylabel('Number of Observations', fontsize = 20)\n",
    "\n",
    "## Show plot.\n",
    "plt.show()"
   ]
  },
  {
   "cell_type": "markdown",
   "metadata": {},
   "source": [
    "#### J. What proportion of the **p_diffs** are greater than the actual difference observed in **ab_data.csv**?"
   ]
  },
  {
   "cell_type": "code",
   "execution_count": 27,
   "metadata": {},
   "outputs": [
    {
     "name": "stdout",
     "output_type": "stream",
     "text": [
      "┌─────────┬────────┐\n",
      "│ P-value │ 0.9057 │\n",
      "└─────────┴────────┘\n"
     ]
    }
   ],
   "source": [
    "## Calculate P value.\n",
    "p_value = (p_diffs > obs_diff).mean()\n",
    "\n",
    "## Build table.\n",
    "list_ = [['P-value', p_value]]\n",
    "\n",
    "## Print table.\n",
    "print(tabletext.to_text(list_))"
   ]
  },
  {
   "cell_type": "markdown",
   "metadata": {},
   "source": [
    "#### K. In words, explain what you just computed in part **j.**  What is this value called in scientific studies?  What does this value mean in terms of whether or not there is a difference between the new and old pages?"
   ]
  },
  {
   "cell_type": "markdown",
   "metadata": {},
   "source": [
    "The P-value is the probability that the observed difference of means, <code>obs_diff</code>, occurred under the Null Hypothesis. Put another way: based on the results, there is a 90.57% chance that the observed difference we saw from the A/B test could have occurred under the null hypothesis (as a reminder: the null hypothesis is that the treatment page, at best, only performs *the same* as the control page).\n",
    "\n",
    "Based on this, if I were to stop this analysis right here, I would claim that I had failed to reject the Null hypothesis."
   ]
  },
  {
   "cell_type": "markdown",
   "metadata": {},
   "source": [
    "#### L. We could also use a built-in to achieve similar results.  Though using the built-in might be easier to code, the above portions are a walkthrough of the ideas that are critical to correctly thinking about statistical significance. Fill in the below to calculate the number of conversions for each page, as well as the number of individuals who received each page. Let `n_old` and `n_new` refer the the number of rows associated with the old page and new pages, respectively."
   ]
  },
  {
   "cell_type": "code",
   "execution_count": 28,
   "metadata": {},
   "outputs": [],
   "source": [
    "import statsmodels.api as sm\n",
    "\n",
    "## Number of conversions by each experience.\n",
    "convert_old = df2.query('group == \"control\" & converted == 1').shape[0]\n",
    "convert_new = df2.query('group == \"treatment\" & converted == 1').shape[0]\n",
    "\n",
    "## Number of records for each experience.\n",
    "n_old = df2[df2.group == 'control'].shape[0]\n",
    "n_new = df2[df2.group == 'treatment'].shape[0]"
   ]
  },
  {
   "cell_type": "markdown",
   "metadata": {},
   "source": [
    "#### M. Now use `stats.proportions_ztest` to compute your test statistic and p-value.  [Here](http://knowledgetack.com/python/statsmodels/proportions_ztest/) is a helpful link on using the built in."
   ]
  },
  {
   "cell_type": "code",
   "execution_count": 29,
   "metadata": {},
   "outputs": [
    {
     "name": "stdout",
     "output_type": "stream",
     "text": [
      "┌─────────┬────────────────────┐\n",
      "│ Z-Score │ 1.3109241984234394 │\n",
      "├─────────┼────────────────────┤\n",
      "│ P-Value │ 0.9050583127590245 │\n",
      "└─────────┴────────────────────┘\n"
     ]
    }
   ],
   "source": [
    "## Generate z_score, p_value.\n",
    "z_score, p_value = sm.stats.proportions_ztest([convert_old, convert_new], [n_old, n_new], alternative='smaller')\n",
    "\n",
    "## Build table.\n",
    "list_ = [['Z-Score', z_score],\n",
    "         ['P-Value', p_value]]\n",
    "\n",
    "## Print table.\n",
    "print(tabletext.to_text(list_))"
   ]
  },
  {
   "cell_type": "markdown",
   "metadata": {},
   "source": [
    "#### N. What do the z-score and p-value you computed in the previous question mean for the conversion rates of the old and new pages?  Do they agree with the findings in parts **j.** and **k.**?"
   ]
  },
  {
   "cell_type": "markdown",
   "metadata": {},
   "source": [
    "The Z-score speaks to how many standard deviations an element is from the mean. Our  Z-Score, 1.3109, is below the critical value of 1.6448. Similar to the bootstrapping, the P-value .905, far above the alpha of .05. Therefore, I continue to fail to reject the Null Hypothesis."
   ]
  },
  {
   "cell_type": "markdown",
   "metadata": {},
   "source": [
    "<a id='regression'></a>\n",
    "## Part III - A regression approach\n",
    "\n",
    "### `1.` In this final part, you will see that the result you acheived in the previous A/B test can also be acheived by performing regression.\n",
    "\n",
    "#### A. Since each row is either a conversion or no conversion, what type of regression should you be performing in this case?"
   ]
  },
  {
   "cell_type": "markdown",
   "metadata": {},
   "source": [
    "Logistic regression should be used here, as it is better fit to measure the classification of two binary potential outcomes."
   ]
  },
  {
   "cell_type": "markdown",
   "metadata": {},
   "source": [
    "#### B. The goal is to use **statsmodels** to fit the regression model you specified in part **a.** to see if there is a significant difference in conversion based on which page a customer receives.  However, you first need to create a column for the intercept, and create a dummy variable column for which page each user received.  Add an **intercept** column, as well as an **ab_page** column, which is 1 when an individual receives the **treatment** and 0 if **control**."
   ]
  },
  {
   "cell_type": "code",
   "execution_count": 30,
   "metadata": {},
   "outputs": [
    {
     "data": {
      "text/html": [
       "<div>\n",
       "<style scoped>\n",
       "    .dataframe tbody tr th:only-of-type {\n",
       "        vertical-align: middle;\n",
       "    }\n",
       "\n",
       "    .dataframe tbody tr th {\n",
       "        vertical-align: top;\n",
       "    }\n",
       "\n",
       "    .dataframe thead th {\n",
       "        text-align: right;\n",
       "    }\n",
       "</style>\n",
       "<table border=\"1\" class=\"dataframe\">\n",
       "  <thead>\n",
       "    <tr style=\"text-align: right;\">\n",
       "      <th></th>\n",
       "      <th>user_id</th>\n",
       "      <th>timestamp</th>\n",
       "      <th>group</th>\n",
       "      <th>landing_page</th>\n",
       "      <th>converted</th>\n",
       "      <th>intercept</th>\n",
       "      <th>ab_page</th>\n",
       "      <th>old_page</th>\n",
       "    </tr>\n",
       "  </thead>\n",
       "  <tbody>\n",
       "    <tr>\n",
       "      <th>0</th>\n",
       "      <td>851104</td>\n",
       "      <td>2017-01-21 22:11:48.556739</td>\n",
       "      <td>control</td>\n",
       "      <td>old_page</td>\n",
       "      <td>0</td>\n",
       "      <td>1</td>\n",
       "      <td>0</td>\n",
       "      <td>1</td>\n",
       "    </tr>\n",
       "    <tr>\n",
       "      <th>1</th>\n",
       "      <td>804228</td>\n",
       "      <td>2017-01-12 08:01:45.159739</td>\n",
       "      <td>control</td>\n",
       "      <td>old_page</td>\n",
       "      <td>0</td>\n",
       "      <td>1</td>\n",
       "      <td>0</td>\n",
       "      <td>1</td>\n",
       "    </tr>\n",
       "    <tr>\n",
       "      <th>2</th>\n",
       "      <td>661590</td>\n",
       "      <td>2017-01-11 16:55:06.154213</td>\n",
       "      <td>treatment</td>\n",
       "      <td>new_page</td>\n",
       "      <td>0</td>\n",
       "      <td>1</td>\n",
       "      <td>1</td>\n",
       "      <td>0</td>\n",
       "    </tr>\n",
       "    <tr>\n",
       "      <th>3</th>\n",
       "      <td>853541</td>\n",
       "      <td>2017-01-08 18:28:03.143765</td>\n",
       "      <td>treatment</td>\n",
       "      <td>new_page</td>\n",
       "      <td>0</td>\n",
       "      <td>1</td>\n",
       "      <td>1</td>\n",
       "      <td>0</td>\n",
       "    </tr>\n",
       "    <tr>\n",
       "      <th>4</th>\n",
       "      <td>864975</td>\n",
       "      <td>2017-01-21 01:52:26.210827</td>\n",
       "      <td>control</td>\n",
       "      <td>old_page</td>\n",
       "      <td>1</td>\n",
       "      <td>1</td>\n",
       "      <td>0</td>\n",
       "      <td>1</td>\n",
       "    </tr>\n",
       "  </tbody>\n",
       "</table>\n",
       "</div>"
      ],
      "text/plain": [
       "   user_id                   timestamp      group landing_page  converted  \\\n",
       "0   851104  2017-01-21 22:11:48.556739    control     old_page          0   \n",
       "1   804228  2017-01-12 08:01:45.159739    control     old_page          0   \n",
       "2   661590  2017-01-11 16:55:06.154213  treatment     new_page          0   \n",
       "3   853541  2017-01-08 18:28:03.143765  treatment     new_page          0   \n",
       "4   864975  2017-01-21 01:52:26.210827    control     old_page          1   \n",
       "\n",
       "   intercept  ab_page  old_page  \n",
       "0          1        0         1  \n",
       "1          1        0         1  \n",
       "2          1        1         0  \n",
       "3          1        1         0  \n",
       "4          1        0         1  "
      ]
     },
     "execution_count": 30,
     "metadata": {},
     "output_type": "execute_result"
    }
   ],
   "source": [
    "## Create new columns to prepare the dataframe for modeling.\n",
    "df2['intercept'] = 1\n",
    "df2[['ab_page', 'old_page']] = pd.get_dummies(df2['landing_page'])\n",
    "\n",
    "## Check results.\n",
    "df2.head()"
   ]
  },
  {
   "cell_type": "markdown",
   "metadata": {},
   "source": [
    "#### c. Use **statsmodels** to import your regression model.  Instantiate the model, and fit the model using the two columns you created in part **b.** to predict whether or not an individual converts."
   ]
  },
  {
   "cell_type": "code",
   "execution_count": 31,
   "metadata": {},
   "outputs": [
    {
     "name": "stdout",
     "output_type": "stream",
     "text": [
      "Optimization terminated successfully.\n",
      "         Current function value: 0.366118\n",
      "         Iterations 6\n"
     ]
    }
   ],
   "source": [
    "## Create Logistic Regression model, fit it to the results.\n",
    "logit = sm.Logit(df2['converted'], df2[['intercept','ab_page']])\n",
    "result = logit.fit()\n"
   ]
  },
  {
   "cell_type": "markdown",
   "metadata": {},
   "source": [
    "#### D. Provide the summary of your model below, and use it as necessary to answer the following questions."
   ]
  },
  {
   "cell_type": "code",
   "execution_count": 32,
   "metadata": {},
   "outputs": [
    {
     "name": "stdout",
     "output_type": "stream",
     "text": [
      "                           Logit Regression Results                           \n",
      "==============================================================================\n",
      "Dep. Variable:              converted   No. Observations:               290584\n",
      "Model:                          Logit   Df Residuals:                   290582\n",
      "Method:                           MLE   Df Model:                            1\n",
      "Date:                Mon, 22 Jul 2019   Pseudo R-squ.:               8.077e-06\n",
      "Time:                        16:49:44   Log-Likelihood:            -1.0639e+05\n",
      "converged:                       True   LL-Null:                   -1.0639e+05\n",
      "                                        LLR p-value:                    0.1899\n",
      "==============================================================================\n",
      "                 coef    std err          z      P>|z|      [0.025      0.975]\n",
      "------------------------------------------------------------------------------\n",
      "intercept     -1.9888      0.008   -246.669      0.000      -2.005      -1.973\n",
      "ab_page       -0.0150      0.011     -1.311      0.190      -0.037       0.007\n",
      "==============================================================================\n"
     ]
    }
   ],
   "source": [
    "print(result.summary())"
   ]
  },
  {
   "cell_type": "markdown",
   "metadata": {},
   "source": [
    "#### E. What is the p-value associated with **ab_page**? Why does it differ from the value you found in **Part II**?<br><br>  **Hint**: What are the null and alternative hypotheses associated with your regression model, and how do they compare to the null and alternative hypotheses in the **Part II**?"
   ]
  },
  {
   "cell_type": "markdown",
   "metadata": {},
   "source": [
    "The P-value for the regression model is .190. The reason for the difference between the regression model and the bootstrapping P-values is because these were two different styles of test. The bootstrapping was a single-tailed test, whereas the regression model was a two-tailed test. Put mathematially:\n",
    "\n",
    "*Bootstrap Hypotheses*\n",
    "\n",
    "\\begin{equation*}H_0: p_{new} - p_{old} <= 0\\end{equation*}\n",
    "\\begin{equation*}H_1: p_{new} - p_{old} > 0\\end{equation*}\n",
    "\n",
    "*Regression Hypotheses*\n",
    "\n",
    "\\begin{equation*}H_0: p_{new} = p_{old}\\end{equation*}\n",
    "\\begin{equation*}H_1: p_{new} \\ne p_{old}\\end{equation*}\n"
   ]
  },
  {
   "cell_type": "markdown",
   "metadata": {},
   "source": [
    "#### F. Now, you are considering other things that might influence whether or not an individual converts.  Discuss why it is a good idea to consider other factors to add into your regression model.  Are there any disadvantages to adding additional terms into your regression model?"
   ]
  },
  {
   "cell_type": "markdown",
   "metadata": {},
   "source": [
    "Finding more terms to add to the model is worth pursuing in the search for predictors that can help account for some of the current unexplained variability. However, this must be done with caution to avoid multicollinearity. If multiple predictors are being added in that correlate with each other, this can cause the beta coefficients that build the model to perform in unexpected ways that affects the interpretability, accuracy, and overall usefulness of the model."
   ]
  },
  {
   "cell_type": "markdown",
   "metadata": {},
   "source": [
    "#### G. Now along with testing if the conversion rate changes for different pages, also add an effect based on which country a user lives. You will need to read in the **countries.csv** dataset and merge together your datasets on the approporiate rows. Does it appear that country had an impact on conversion?"
   ]
  },
  {
   "cell_type": "code",
   "execution_count": 33,
   "metadata": {},
   "outputs": [
    {
     "data": {
      "text/plain": [
       "array(['UK', 'US', 'CA'], dtype=object)"
      ]
     },
     "execution_count": 33,
     "metadata": {},
     "output_type": "execute_result"
    }
   ],
   "source": [
    "## Read in countries.csv, join data.\n",
    "countries_df = pd.read_csv('./countries.csv')\n",
    "df_new = countries_df.set_index('user_id').join(df2.set_index('user_id'), how='inner')\n",
    "\n",
    "## See how many country values are in the dataset.\n",
    "df_new.country.unique()"
   ]
  },
  {
   "cell_type": "code",
   "execution_count": 34,
   "metadata": {},
   "outputs": [
    {
     "data": {
      "text/html": [
       "<div>\n",
       "<style scoped>\n",
       "    .dataframe tbody tr th:only-of-type {\n",
       "        vertical-align: middle;\n",
       "    }\n",
       "\n",
       "    .dataframe tbody tr th {\n",
       "        vertical-align: top;\n",
       "    }\n",
       "\n",
       "    .dataframe thead th {\n",
       "        text-align: right;\n",
       "    }\n",
       "</style>\n",
       "<table border=\"1\" class=\"dataframe\">\n",
       "  <thead>\n",
       "    <tr style=\"text-align: right;\">\n",
       "      <th></th>\n",
       "      <th>country</th>\n",
       "      <th>timestamp</th>\n",
       "      <th>group</th>\n",
       "      <th>landing_page</th>\n",
       "      <th>converted</th>\n",
       "      <th>intercept</th>\n",
       "      <th>ab_page</th>\n",
       "      <th>old_page</th>\n",
       "      <th>CA</th>\n",
       "      <th>UK</th>\n",
       "      <th>US</th>\n",
       "    </tr>\n",
       "    <tr>\n",
       "      <th>user_id</th>\n",
       "      <th></th>\n",
       "      <th></th>\n",
       "      <th></th>\n",
       "      <th></th>\n",
       "      <th></th>\n",
       "      <th></th>\n",
       "      <th></th>\n",
       "      <th></th>\n",
       "      <th></th>\n",
       "      <th></th>\n",
       "      <th></th>\n",
       "    </tr>\n",
       "  </thead>\n",
       "  <tbody>\n",
       "    <tr>\n",
       "      <th>834778</th>\n",
       "      <td>UK</td>\n",
       "      <td>2017-01-14 23:08:43.304998</td>\n",
       "      <td>control</td>\n",
       "      <td>old_page</td>\n",
       "      <td>0</td>\n",
       "      <td>1</td>\n",
       "      <td>0</td>\n",
       "      <td>1</td>\n",
       "      <td>0</td>\n",
       "      <td>1</td>\n",
       "      <td>0</td>\n",
       "    </tr>\n",
       "    <tr>\n",
       "      <th>928468</th>\n",
       "      <td>US</td>\n",
       "      <td>2017-01-23 14:44:16.387854</td>\n",
       "      <td>treatment</td>\n",
       "      <td>new_page</td>\n",
       "      <td>0</td>\n",
       "      <td>1</td>\n",
       "      <td>1</td>\n",
       "      <td>0</td>\n",
       "      <td>0</td>\n",
       "      <td>0</td>\n",
       "      <td>1</td>\n",
       "    </tr>\n",
       "    <tr>\n",
       "      <th>822059</th>\n",
       "      <td>UK</td>\n",
       "      <td>2017-01-16 14:04:14.719771</td>\n",
       "      <td>treatment</td>\n",
       "      <td>new_page</td>\n",
       "      <td>1</td>\n",
       "      <td>1</td>\n",
       "      <td>1</td>\n",
       "      <td>0</td>\n",
       "      <td>0</td>\n",
       "      <td>1</td>\n",
       "      <td>0</td>\n",
       "    </tr>\n",
       "    <tr>\n",
       "      <th>711597</th>\n",
       "      <td>UK</td>\n",
       "      <td>2017-01-22 03:14:24.763511</td>\n",
       "      <td>control</td>\n",
       "      <td>old_page</td>\n",
       "      <td>0</td>\n",
       "      <td>1</td>\n",
       "      <td>0</td>\n",
       "      <td>1</td>\n",
       "      <td>0</td>\n",
       "      <td>1</td>\n",
       "      <td>0</td>\n",
       "    </tr>\n",
       "    <tr>\n",
       "      <th>710616</th>\n",
       "      <td>UK</td>\n",
       "      <td>2017-01-16 13:14:44.000513</td>\n",
       "      <td>treatment</td>\n",
       "      <td>new_page</td>\n",
       "      <td>0</td>\n",
       "      <td>1</td>\n",
       "      <td>1</td>\n",
       "      <td>0</td>\n",
       "      <td>0</td>\n",
       "      <td>1</td>\n",
       "      <td>0</td>\n",
       "    </tr>\n",
       "  </tbody>\n",
       "</table>\n",
       "</div>"
      ],
      "text/plain": [
       "        country                   timestamp      group landing_page  \\\n",
       "user_id                                                               \n",
       "834778       UK  2017-01-14 23:08:43.304998    control     old_page   \n",
       "928468       US  2017-01-23 14:44:16.387854  treatment     new_page   \n",
       "822059       UK  2017-01-16 14:04:14.719771  treatment     new_page   \n",
       "711597       UK  2017-01-22 03:14:24.763511    control     old_page   \n",
       "710616       UK  2017-01-16 13:14:44.000513  treatment     new_page   \n",
       "\n",
       "         converted  intercept  ab_page  old_page  CA  UK  US  \n",
       "user_id                                                       \n",
       "834778           0          1        0         1   0   1   0  \n",
       "928468           0          1        1         0   0   0   1  \n",
       "822059           1          1        1         0   0   1   0  \n",
       "711597           0          1        0         1   0   1   0  \n",
       "710616           0          1        1         0   0   1   0  "
      ]
     },
     "execution_count": 34,
     "metadata": {},
     "output_type": "execute_result"
    }
   ],
   "source": [
    "## Create the necessary dummy variables.\n",
    "df_new[['CA','UK','US']] = pd.get_dummies(df_new['country'])\n",
    "\n",
    "\n",
    "## Check data for accurate dummy creation.\n",
    "df_new.head()"
   ]
  },
  {
   "cell_type": "markdown",
   "metadata": {},
   "source": [
    "#### H. Though you have now looked at the individual factors of country and page on conversion, we would now like to look at an interaction between page and country to see if there significant effects on conversion.  Create the necessary additional columns, and fit the new model.  Provide the summary results, and your conclusions based on the results."
   ]
  },
  {
   "cell_type": "code",
   "execution_count": 35,
   "metadata": {},
   "outputs": [
    {
     "name": "stdout",
     "output_type": "stream",
     "text": [
      "Optimization terminated successfully.\n",
      "         Current function value: 0.366113\n",
      "         Iterations 6\n",
      "                           Logit Regression Results                           \n",
      "==============================================================================\n",
      "Dep. Variable:              converted   No. Observations:               290584\n",
      "Model:                          Logit   Df Residuals:                   290580\n",
      "Method:                           MLE   Df Model:                            3\n",
      "Date:                Mon, 22 Jul 2019   Pseudo R-squ.:               2.323e-05\n",
      "Time:                        16:49:45   Log-Likelihood:            -1.0639e+05\n",
      "converged:                       True   LL-Null:                   -1.0639e+05\n",
      "                                        LLR p-value:                    0.1760\n",
      "==============================================================================\n",
      "                 coef    std err          z      P>|z|      [0.025      0.975]\n",
      "------------------------------------------------------------------------------\n",
      "intercept     -2.0300      0.027    -76.249      0.000      -2.082      -1.978\n",
      "ab_page       -0.0149      0.011     -1.307      0.191      -0.037       0.007\n",
      "UK             0.0506      0.028      1.784      0.074      -0.005       0.106\n",
      "US             0.0408      0.027      1.516      0.130      -0.012       0.093\n",
      "==============================================================================\n"
     ]
    }
   ],
   "source": [
    "## Fit Your Linear Model And Obtain the Results\n",
    "Logit = sm.Logit(df_new['converted'], df_new[['intercept','ab_page','UK','US']])\n",
    "result = Logit.fit()\n",
    "print(result.summary())"
   ]
  },
  {
   "cell_type": "markdown",
   "metadata": {},
   "source": [
    "Looking at Logistic regression model with countries adding in (UK, US, and CA as the baseline). We do not see a statistically significant difference in how learners react to the pages in different countries when controlling for experience. Now, let's add in a couple higher order terms by creating an interaction between country and ab_page."
   ]
  },
  {
   "cell_type": "code",
   "execution_count": 36,
   "metadata": {},
   "outputs": [
    {
     "name": "stdout",
     "output_type": "stream",
     "text": [
      "Optimization terminated successfully.\n",
      "         Current function value: 0.366109\n",
      "         Iterations 6\n",
      "                           Logit Regression Results                           \n",
      "==============================================================================\n",
      "Dep. Variable:              converted   No. Observations:               290584\n",
      "Model:                          Logit   Df Residuals:                   290578\n",
      "Method:                           MLE   Df Model:                            5\n",
      "Date:                Mon, 22 Jul 2019   Pseudo R-squ.:               3.482e-05\n",
      "Time:                        16:49:46   Log-Likelihood:            -1.0639e+05\n",
      "converged:                       True   LL-Null:                   -1.0639e+05\n",
      "                                        LLR p-value:                    0.1920\n",
      "==============================================================================\n",
      "                 coef    std err          z      P>|z|      [0.025      0.975]\n",
      "------------------------------------------------------------------------------\n",
      "intercept     -2.0040      0.036    -55.008      0.000      -2.075      -1.933\n",
      "ab_page       -0.0674      0.052     -1.297      0.195      -0.169       0.034\n",
      "UK             0.0118      0.040      0.296      0.767      -0.066       0.090\n",
      "US             0.0175      0.038      0.465      0.642      -0.056       0.091\n",
      "ab_page_UK     0.0783      0.057      1.378      0.168      -0.033       0.190\n",
      "ab_page_US     0.0469      0.054      0.872      0.383      -0.059       0.152\n",
      "==============================================================================\n"
     ]
    }
   ],
   "source": [
    "## Create new higher order columns.\n",
    "df_new['ab_page_UK'] = df_new.ab_page * df_new.UK\n",
    "df_new['ab_page_US'] = df_new.ab_page * df_new.US\n",
    "\n",
    "## Recreate the Logistic regression model with the higher order terms.\n",
    "Logit = sm.Logit(df_new['converted'], df_new[['intercept','ab_page','UK','US', 'ab_page_UK', 'ab_page_US']])\n",
    "result = Logit.fit()\n",
    "print(result.summary())"
   ]
  },
  {
   "cell_type": "markdown",
   "metadata": {},
   "source": [
    "When adding in the higher order terms, the results become muddier. The P-Values are far above the alpha. Because of this, is does not seem that any higher order interactions between a user's country and their A/B experience will improve the accuracy of our model."
   ]
  },
  {
   "cell_type": "markdown",
   "metadata": {},
   "source": [
    "<a id='conclusions'></a>\n",
    "## Conclusions\n",
    "\n",
    "There are two questions that must be answered here: what is the **statistical** relevance of the results, and what is the **practical** relevance?\n",
    "\n",
    "Statistically, we've seen by way of bootstrap analysis and logistic regression that there is no currently available evidence of statistically significant differences between how the Treatment and Control pages perform. In the bootstrap analysis, are observed difference showed a P-value of .905; put another way, there is greater than a 90% chance that our observed data could have occurred under the null hypothesis. In the Logistic regression, we were unable to find features with meaningful P-value relationships between the feature and the conversion outcome.\n",
    "\n",
    "Practically, the observed difference is quite small. We see this most clearly when we use bootstrap to calculate 10,000 experiment's worth of difference of means and plot them on a histogram. Under the null hypothesis, more than 95 percent of the results are plus or minus .003 (three thousandths) from 0; since the P-value of the observed difference is .905, it suggest that are distribution of results if we ran 10,000 real experiments would look very similar to this. An A/B Test should be driving noticeable boosts in performance to conversions -- this is not the case here. It would be unwise to commit engineering resources to rolling out a solution like this, as opposed to rededicating them to another experiment testing new features.\n",
    "\n",
    "Because of this, the results of this experiment show that the boost in performance from the A/B test is neither statistical nor practical, and should be abandoned in pursuit of other A/B tests. I fail to reject the null hypothesis."
   ]
  }
 ],
 "metadata": {
  "kernelspec": {
   "display_name": "Python 3",
   "language": "python",
   "name": "python3"
  },
  "language_info": {
   "codemirror_mode": {
    "name": "ipython",
    "version": 3
   },
   "file_extension": ".py",
   "mimetype": "text/x-python",
   "name": "python",
   "nbconvert_exporter": "python",
   "pygments_lexer": "ipython3",
   "version": "3.6.8"
  }
 },
 "nbformat": 4,
 "nbformat_minor": 2
}
